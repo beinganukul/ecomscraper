{
 "cells": [
  {
   "cell_type": "code",
   "execution_count": 53,
   "metadata": {},
   "outputs": [],
   "source": [
    "import pandas as pd\n",
    "import os\n",
    "from bs4 import BeautifulSoup\n",
    "import re"
   ]
  },
  {
   "cell_type": "code",
   "execution_count": 60,
   "metadata": {},
   "outputs": [
    {
     "name": "stdout",
     "output_type": "stream",
     "text": [
      "Hand & Machine Tools\n",
      "Furniture & Supplies\n",
      "Industrial Supplies\n",
      "Cosmetics & Personal Care\n",
      "Apparel & Garments\n",
      "Education & Training\n",
      "Chemicals, Dyes & Solvents\n"
     ]
    },
    {
     "name": "stderr",
     "output_type": "stream",
     "text": [
      "/home/anukul/project/vistaar/indiamart-scraper/env/lib/python3.11/site-packages/openpyxl/workbook/child.py:99: UserWarning: Title is more than 31 characters. Some applications may not be able to read the file\n",
      "  warnings.warn(\"Title is more than 31 characters. Some applications may not be able to read the file\")\n",
      "/home/anukul/project/vistaar/indiamart-scraper/env/lib/python3.11/site-packages/openpyxl/workbook/child.py:99: UserWarning: Title is more than 31 characters. Some applications may not be able to read the file\n",
      "  warnings.warn(\"Title is more than 31 characters. Some applications may not be able to read the file\")\n"
     ]
    },
    {
     "name": "stdout",
     "output_type": "stream",
     "text": [
      "Textiles, Yarn & Fabrics\n",
      "Marble, Granite & Stones\n",
      "Consumer Electronics\n",
      "Travel, Tourism & Hotels\n",
      "Paper & Paper Products\n",
      "Food & Beverages\n",
      "Hospital and Diagnosis Instrument\n",
      "Electronics Components\n",
      "Product Rental & Leasing\n",
      "Computer & IT Solutions\n",
      "Architecture & Interiors\n",
      "Kitchen Utensils & Appliances\n",
      "Packaging Machines & Goods\n",
      "Bags, Belts & Wallets\n",
      "Housewares & Supplies\n",
      "Fashion Accessories & Gear\n",
      "Metals, Alloys & Minerals\n"
     ]
    },
    {
     "name": "stderr",
     "output_type": "stream",
     "text": [
      "/home/anukul/project/vistaar/indiamart-scraper/env/lib/python3.11/site-packages/openpyxl/workbook/child.py:99: UserWarning: Title is more than 31 characters. Some applications may not be able to read the file\n",
      "  warnings.warn(\"Title is more than 31 characters. Some applications may not be able to read the file\")\n"
     ]
    },
    {
     "name": "stdout",
     "output_type": "stream",
     "text": [
      "Lab Instruments & Supplies\n",
      "Herbal & Ayurvedic Product\n",
      "House Keeping Services\n",
      "Leather Products\n",
      "Security, Safety System & Service\n",
      "Health Products,Drug and Medicine\n",
      "Building & Construction\n",
      "Event Planner & Organizer\n",
      "Engineering Services\n",
      "Handicrafts & Decoratives\n",
      "R&D and Testing Labs\n",
      "Sports Goods, Toys & Games\n",
      "Agriculture & Farming\n",
      "Telecom Equipment & Goods\n",
      "Electrical Equipment\n",
      "IT & Telecom Services\n",
      "Rail, Shipping & Aviation\n",
      "Bicycle, Rickshaw & Spares\n",
      "Media, PR & Publishing\n"
     ]
    },
    {
     "name": "stderr",
     "output_type": "stream",
     "text": [
      "/home/anukul/project/vistaar/indiamart-scraper/env/lib/python3.11/site-packages/openpyxl/workbook/child.py:99: UserWarning: Title is more than 31 characters. Some applications may not be able to read the file\n",
      "  warnings.warn(\"Title is more than 31 characters. Some applications may not be able to read the file\")\n",
      "/home/anukul/project/vistaar/indiamart-scraper/env/lib/python3.11/site-packages/openpyxl/workbook/child.py:99: UserWarning: Title is more than 31 characters. Some applications may not be able to read the file\n",
      "  warnings.warn(\"Title is more than 31 characters. Some applications may not be able to read the file\")\n",
      "/home/anukul/project/vistaar/indiamart-scraper/env/lib/python3.11/site-packages/openpyxl/workbook/child.py:99: UserWarning: Title is more than 31 characters. Some applications may not be able to read the file\n",
      "  warnings.warn(\"Title is more than 31 characters. Some applications may not be able to read the file\")\n"
     ]
    },
    {
     "name": "stdout",
     "output_type": "stream",
     "text": [
      "Mechanical Parts & Spares\n",
      "Automobile, Parts & Spares\n",
      "Industrial Plants & Machinery\n",
      "Books & Stationery\n"
     ]
    },
    {
     "name": "stderr",
     "output_type": "stream",
     "text": [
      "/home/anukul/project/vistaar/indiamart-scraper/env/lib/python3.11/site-packages/openpyxl/workbook/child.py:99: UserWarning: Title is more than 31 characters. Some applications may not be able to read the file\n",
      "  warnings.warn(\"Title is more than 31 characters. Some applications may not be able to read the file\")\n",
      "/home/anukul/project/vistaar/indiamart-scraper/env/lib/python3.11/site-packages/openpyxl/workbook/child.py:99: UserWarning: Title is more than 31 characters. Some applications may not be able to read the file\n",
      "  warnings.warn(\"Title is more than 31 characters. Some applications may not be able to read the file\")\n",
      "/home/anukul/project/vistaar/indiamart-scraper/env/lib/python3.11/site-packages/openpyxl/workbook/child.py:99: UserWarning: Title is more than 31 characters. Some applications may not be able to read the file\n",
      "  warnings.warn(\"Title is more than 31 characters. Some applications may not be able to read the file\")\n",
      "/home/anukul/project/vistaar/indiamart-scraper/env/lib/python3.11/site-packages/openpyxl/workbook/child.py:99: UserWarning: Title is more than 31 characters. Some applications may not be able to read the file\n",
      "  warnings.warn(\"Title is more than 31 characters. Some applications may not be able to read the file\")\n"
     ]
    },
    {
     "name": "stdout",
     "output_type": "stream",
     "text": [
      "Home Textile & Furnishing\n",
      "Gems, Jewelry & Astrology\n"
     ]
    }
   ],
   "source": [
    "directory = \"./categories\"\n",
    "category = [f for f in os.listdir(directory) if not os.path.isfile(os.path.join(directory, f))]\n",
    "for category_name in category:\n",
    "    print(category_name)\n",
    "    writer = pd.ExcelWriter(f'./excel_data/{category_name}.xlsx', engine='openpyxl') \n",
    "    for files in os.listdir(f\"./categories/{category_name}\"):\n",
    "        sheet = []\n",
    "        file_path = f\"./categories/{category_name}/{files}\"\n",
    "        with open(file_path, \"r\") as fh:\n",
    "            file_content = fh.read()\n",
    "        soup = BeautifulSoup(file_content, 'html.parser')\n",
    "        try:\n",
    "            title_div = soup.find('div', {'class': 'title-name'})\n",
    "\n",
    "            h1_tag = title_div.find('h1')\n",
    "\n",
    "            h1_text = h1_tag.text\n",
    "\n",
    "            isbimg_divs = soup.find_all('div', {'class': 'isbimg'})\n",
    "\n",
    "            for div in isbimg_divs:\n",
    "                data = {}\n",
    "                a_tag = div.find('a', {'class': 's-tile'})\n",
    "                a_text = a_tag.text\n",
    "                data[\"value\"] = a_text\n",
    "                sheet.append(data)\n",
    "        except:\n",
    "            print(\"Error\", category_name, files)\n",
    "        sheet_df = pd.DataFrame(sheet)\n",
    "        if not sheet_df.empty:\n",
    "            regex = re.compile('[:,\\.!?]')\n",
    "            h1_text = regex.sub('', h1_text)\n",
    "            sheet_df.to_excel(writer, sheet_name=h1_text, index=False)\n",
    "    writer.close()\n",
    "            "
   ]
  }
 ],
 "metadata": {
  "kernelspec": {
   "display_name": "env",
   "language": "python",
   "name": "python3"
  },
  "language_info": {
   "codemirror_mode": {
    "name": "ipython",
    "version": 3
   },
   "file_extension": ".py",
   "mimetype": "text/x-python",
   "name": "python",
   "nbconvert_exporter": "python",
   "pygments_lexer": "ipython3",
   "version": "3.11.3"
  },
  "orig_nbformat": 4
 },
 "nbformat": 4,
 "nbformat_minor": 2
}
