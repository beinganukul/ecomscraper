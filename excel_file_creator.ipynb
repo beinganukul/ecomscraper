{
 "cells": [
  {
   "cell_type": "code",
   "execution_count": 53,
   "metadata": {},
   "outputs": [],
   "source": [
    "import pandas as pd\n",
    "import os\n",
    "from bs4 import BeautifulSoup\n",
    "import re"
   ]
  },
  {
   "cell_type": "code",
   "execution_count": 58,
   "metadata": {},
   "outputs": [
    {
     "name": "stdout",
     "output_type": "stream",
     "text": [
      "Hand & Machine Tools\n"
     ]
    },
    {
     "ename": "FileNotFoundError",
     "evalue": "[Errno 2] No such file or directory: '/tmp/ramdisk/categories/Hand & Machine Tools'",
     "output_type": "error",
     "traceback": [
      "\u001b[0;31m---------------------------------------------------------------------------\u001b[0m",
      "\u001b[0;31mFileNotFoundError\u001b[0m                         Traceback (most recent call last)",
      "Cell \u001b[0;32mIn[58], line 6\u001b[0m\n\u001b[1;32m      4\u001b[0m \u001b[39mprint\u001b[39m(category_name)\n\u001b[1;32m      5\u001b[0m writer \u001b[39m=\u001b[39m pd\u001b[39m.\u001b[39mExcelWriter(\u001b[39mf\u001b[39m\u001b[39m'\u001b[39m\u001b[39m/tmp/ramdisk/excel_data/\u001b[39m\u001b[39m{\u001b[39;00mcategory_name\u001b[39m}\u001b[39;00m\u001b[39m.xlsx\u001b[39m\u001b[39m'\u001b[39m, engine\u001b[39m=\u001b[39m\u001b[39m'\u001b[39m\u001b[39mopenpyxl\u001b[39m\u001b[39m'\u001b[39m) \n\u001b[0;32m----> 6\u001b[0m \u001b[39mfor\u001b[39;00m files \u001b[39min\u001b[39;00m os\u001b[39m.\u001b[39;49mlistdir(\u001b[39mf\u001b[39;49m\u001b[39m\"\u001b[39;49m\u001b[39m/tmp/ramdisk/categories/\u001b[39;49m\u001b[39m{\u001b[39;49;00mcategory_name\u001b[39m}\u001b[39;49;00m\u001b[39m\"\u001b[39;49m):\n\u001b[1;32m      7\u001b[0m     sheet \u001b[39m=\u001b[39m []\n\u001b[1;32m      8\u001b[0m     file_path \u001b[39m=\u001b[39m \u001b[39mf\u001b[39m\u001b[39m\"\u001b[39m\u001b[39m./categories/\u001b[39m\u001b[39m{\u001b[39;00mcategory_name\u001b[39m}\u001b[39;00m\u001b[39m/\u001b[39m\u001b[39m{\u001b[39;00mfiles\u001b[39m}\u001b[39;00m\u001b[39m\"\u001b[39m\n",
      "\u001b[0;31mFileNotFoundError\u001b[0m: [Errno 2] No such file or directory: '/tmp/ramdisk/categories/Hand & Machine Tools'"
     ]
    }
   ],
   "source": [
    "directory = \"./categories\"\n",
    "category = [f for f in os.listdir(directory) if not os.path.isfile(os.path.join(directory, f))]\n",
    "for category_name in category:\n",
    "    print(category_name)\n",
    "    writer = pd.ExcelWriter(f'/tmp/ramdisk/excel_data/{category_name}.xlsx', engine='openpyxl') \n",
    "    for files in os.listdir(f\"./categories/{category_name}\"):\n",
    "        sheet = []\n",
    "        file_path = f\"./categories/{category_name}/{files}\"\n",
    "        with open(file_path, \"r\") as fh:\n",
    "            file_content = fh.read()\n",
    "        soup = BeautifulSoup(file_content, 'html.parser')\n",
    "        try:\n",
    "            title_div = soup.find('div', {'class': 'title-name'})\n",
    "\n",
    "            h1_tag = title_div.find('h1')\n",
    "\n",
    "            h1_text = h1_tag.text\n",
    "\n",
    "            isbimg_divs = soup.find_all('div', {'class': 'isbimg'})\n",
    "\n",
    "            for div in isbimg_divs:\n",
    "                data = {}\n",
    "                a_tag = div.find('a', {'class': 's-tile'})\n",
    "                a_text = a_tag.text\n",
    "                data[\"value\"] = a_text\n",
    "                sheet.append(data)\n",
    "        except:\n",
    "            print(\"Error\", category_name, files)\n",
    "        sheet_df = pd.DataFrame(sheet)\n",
    "        if not sheet_df.empty:\n",
    "            regex = re.compile('[:,\\.!?]')\n",
    "            h1_text = regex.sub('', h1_text)\n",
    "            sheet_df.to_excel(writer, sheet_name=h1_text, index=False)\n",
    "    writer.close()\n",
    "            "
   ]
  }
 ],
 "metadata": {
  "kernelspec": {
   "display_name": "env",
   "language": "python",
   "name": "python3"
  },
  "language_info": {
   "codemirror_mode": {
    "name": "ipython",
    "version": 3
   },
   "file_extension": ".py",
   "mimetype": "text/x-python",
   "name": "python",
   "nbconvert_exporter": "python",
   "pygments_lexer": "ipython3",
   "version": "3.11.3"
  },
  "orig_nbformat": 4
 },
 "nbformat": 4,
 "nbformat_minor": 2
}
